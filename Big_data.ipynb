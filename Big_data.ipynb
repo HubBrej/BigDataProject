{
  "nbformat": 4,
  "nbformat_minor": 0,
  "metadata": {
    "colab": {
      "name": "Big data 2.ipynb",
      "provenance": [],
      "collapsed_sections": [
        "NzOvQ1eGDRis",
        "i1PnIBk3Cciq",
        "dcaXcWAd2C3W"
      ],
      "toc_visible": true
    },
    "kernelspec": {
      "name": "python3",
      "display_name": "Python 3"
    },
    "accelerator": "GPU"
  },
  "cells": [
    {
      "cell_type": "markdown",
      "metadata": {
        "id": "BCDSHI5RK1pA",
        "colab_type": "text"
      },
      "source": [
        "# PreProcessing\n"
      ]
    },
    {
      "cell_type": "code",
      "metadata": {
        "id": "IIpYIzdYG_xN",
        "colab_type": "code",
        "colab": {}
      },
      "source": [
        "from sklearn.model_selection import train_test_split\n",
        "from sklearn.experimental import enable_iterative_imputer\n",
        "from sklearn.impute import IterativeImputer, SimpleImputer\n",
        "from sklearn.svm import SVC\n",
        "import pandas\n",
        "import numpy as np\n",
        "from matplotlib import pyplot as plt"
      ],
      "execution_count": 0,
      "outputs": []
    },
    {
      "cell_type": "code",
      "metadata": {
        "id": "lMk2fPPdCz9a",
        "colab_type": "code",
        "colab": {}
      },
      "source": [
        "X = pandas.read_csv('train.csv')\n",
        "y=X['Response']"
      ],
      "execution_count": 0,
      "outputs": []
    },
    {
      "cell_type": "code",
      "metadata": {
        "id": "CJWMr5wW3Qj7",
        "colab_type": "code",
        "outputId": "6bf5a682-6167-49f5-bcf3-9ced24806baf",
        "colab": {
          "base_uri": "https://localhost:8080/",
          "height": 35
        }
      },
      "source": [
        "X.Response.unique()"
      ],
      "execution_count": 0,
      "outputs": [
        {
          "output_type": "execute_result",
          "data": {
            "text/plain": [
              "array([7, 6, 1, 4, 2, 8, 5, 3])"
            ]
          },
          "metadata": {
            "tags": []
          },
          "execution_count": 97
        }
      ]
    },
    {
      "cell_type": "code",
      "metadata": {
        "id": "C0Q-AOG_UDHq",
        "colab_type": "code",
        "outputId": "929f9431-6f53-4530-9a30-aefa2ae64be4",
        "colab": {
          "base_uri": "https://localhost:8080/",
          "height": 35
        }
      },
      "source": [
        "Xtrunc=X.loc[X.Response==1][:1000]\n",
        "\n",
        "for i in range (2,9):\n",
        "  Xtrunc=Xtrunc.append(X.loc[X.Response==i][:1000])\n",
        "print(Xtrunc.Response.unique())"
      ],
      "execution_count": 0,
      "outputs": [
        {
          "output_type": "stream",
          "text": [
            "[1 2 3 4 5 6 7 8]\n"
          ],
          "name": "stdout"
        }
      ]
    },
    {
      "cell_type": "code",
      "metadata": {
        "id": "ovcN29CLD6KQ",
        "colab_type": "code",
        "outputId": "e672b2ce-f716-48c4-918c-a112b785216a",
        "colab": {
          "base_uri": "https://localhost:8080/",
          "height": 54
        }
      },
      "source": [
        "print(X.InsuredInfo_9.count()) #nb de gens ayant donné leur religion\n",
        "print(len(X))"
      ],
      "execution_count": 0,
      "outputs": [
        {
          "output_type": "stream",
          "text": [
            "14755\n",
            "58881\n"
          ],
          "name": "stdout"
        }
      ]
    },
    {
      "cell_type": "code",
      "metadata": {
        "id": "xruhKOHsyg13",
        "colab_type": "code",
        "outputId": "afafc4e5-e133-4e91-8144-767df946f072",
        "colab": {
          "base_uri": "https://localhost:8080/",
          "height": 35
        }
      },
      "source": [
        "religion=X.InsuredInfo_9.unique()\n",
        "religion[1]=religion[0]\n",
        "religion[0]=np.nan\n",
        "print(religion)"
      ],
      "execution_count": 0,
      "outputs": [
        {
          "output_type": "stream",
          "text": [
            "[nan 'Muslim' 'Jewish' 'Christian' 'Buddhist' 'Hindus']\n"
          ],
          "name": "stdout"
        }
      ]
    },
    {
      "cell_type": "code",
      "metadata": {
        "id": "Mlk4A5VvIwQH",
        "colab_type": "code",
        "outputId": "58a5914f-787a-48ee-ccca-67025d732a05",
        "colab": {
          "base_uri": "https://localhost:8080/",
          "height": 54
        }
      },
      "source": [
        "race=X.InsuredInfo_8.unique()\n",
        "print(race)"
      ],
      "execution_count": 0,
      "outputs": [
        {
          "output_type": "stream",
          "text": [
            "[nan 'Caucasian' 'Black' 'Arabic' 'African-American' 'Asian' 'Hispanic'\n",
            " 'Latino']\n"
          ],
          "name": "stdout"
        }
      ]
    },
    {
      "cell_type": "code",
      "metadata": {
        "id": "_ABEQNcYznlD",
        "colab_type": "code",
        "outputId": "338910b7-e329-4ade-f0f8-5828091b43f5",
        "colab": {
          "base_uri": "https://localhost:8080/",
          "height": 72
        }
      },
      "source": [
        "X['InsuredInfo_7']=X['InsuredInfo_7'].apply(lambda x: 0 if x=='Male' else 1)\n",
        "X['InsuredInfo_8']=X['InsuredInfo_8'].apply(lambda x: np.nan if type(np.nan)==type(x) else np.where(race==x)[0][0])\n",
        "X['InsuredInfo_9']=X['InsuredInfo_9'].apply(lambda x: np.nan if type(np.nan)==type(x) else np.where(religion==x)[0][0])\n",
        "X['Product_Info_2']=X['Product_Info_2'].apply(lambda x: int(x,16))\n",
        "print(X.InsuredInfo_7.unique())\n",
        "print(X.InsuredInfo_8.unique())\n",
        "print(X.InsuredInfo_9.unique())"
      ],
      "execution_count": 0,
      "outputs": [
        {
          "output_type": "stream",
          "text": [
            "[1 0]\n",
            "[nan  1.  2.  3.  4.  5.  6.  7.]\n",
            "[ 1. nan  2.  3.  4.  5.]\n"
          ],
          "name": "stdout"
        }
      ]
    },
    {
      "cell_type": "code",
      "metadata": {
        "id": "g3cI8fANuw-F",
        "colab_type": "code",
        "colab": {}
      },
      "source": [
        "Xdec=X.copy()"
      ],
      "execution_count": 0,
      "outputs": []
    },
    {
      "cell_type": "code",
      "metadata": {
        "id": "Ngif8mUFAoTE",
        "colab_type": "code",
        "outputId": "6e6527be-992e-4586-9bdd-bf05ede46968",
        "colab": {
          "base_uri": "https://localhost:8080/",
          "height": 672
        }
      },
      "source": [
        "print(Xdec.groupby('InsuredInfo_7').mean().Response)\n",
        "print(Xdec.groupby('InsuredInfo_8').mean().Response)\n",
        "print(Xdec.groupby('InsuredInfo_9').mean().Response)\n",
        "\n",
        "X.groupby('InsuredInfo_9').mean().Response.sort_values().plot.bar()"
      ],
      "execution_count": 0,
      "outputs": [
        {
          "output_type": "stream",
          "text": [
            "InsuredInfo_7\n",
            "0    5.471703\n",
            "1    5.858765\n",
            "Name: Response, dtype: float64\n",
            "InsuredInfo_8\n",
            "1.0    5.564054\n",
            "2.0    5.604052\n",
            "3.0    5.000000\n",
            "4.0    6.081794\n",
            "5.0    5.455919\n",
            "6.0    6.166667\n",
            "7.0    6.084746\n",
            "Name: Response, dtype: float64\n",
            "InsuredInfo_9\n",
            "1.0    6.046136\n",
            "2.0    5.863776\n",
            "3.0    4.479210\n",
            "4.0    4.411552\n",
            "5.0    4.486128\n",
            "Name: Response, dtype: float64\n"
          ],
          "name": "stdout"
        },
        {
          "output_type": "execute_result",
          "data": {
            "text/plain": [
              "<matplotlib.axes._subplots.AxesSubplot at 0x7fe62d5fe128>"
            ]
          },
          "metadata": {
            "tags": []
          },
          "execution_count": 7
        },
        {
          "output_type": "display_data",
          "data": {
            "image/png": "[encoded data removed]",
            "text/plain": [
              "<Figure size 432x288 with 1 Axes>"
            ]
          },
          "metadata": {
            "tags": []
          }
        }
      ]
    },
    {
      "cell_type": "code",
      "metadata": {
        "id": "hjwB8ZaG3DJX",
        "colab_type": "code",
        "outputId": "931386a7-d40f-45b1-c86e-9c6f526cad96",
        "colab": {
          "base_uri": "https://localhost:8080/",
          "height": 274
        }
      },
      "source": [
        "col1='InsuredInfo_9'\n",
        "\n",
        "print(Xdec.groupby(col1)['Ht'].mean())\n",
        "\n",
        "\n",
        "cr=Xdec[Xdec.columns[1:]].corr()[col1].abs()>0.1\n",
        "idxs=Xdec[Xdec.columns[1:]].corr()[col1][cr].index\n",
        "vals=X[col1].unique()\n",
        "for col in idxs:\n",
        "  if col !=col1:\n",
        "    if col!='Response':\n",
        "      for idx in vals:\n",
        "        if idx is np.nan:\n",
        "          Xdec.loc[Xdec[col1]==idx,col]=Xdec.loc[Xdec[col1].isnull(),col]-Xdec.loc[Xdec[col1].isnull(),col].mean()\n",
        "        else:\n",
        "          Xdec.loc[Xdec[col1]==idx,col]=Xdec.loc[Xdec[col1]==idx,col]-Xdec.loc[Xdec[col1]==idx,col].mean()\n",
        "\n",
        "print(Xdec.groupby(col1).mean()['Ht'])"
      ],
      "execution_count": 0,
      "outputs": [
        {
          "output_type": "stream",
          "text": [
            "InsuredInfo_9\n",
            "1.0   -0.000824\n",
            "2.0   -0.002199\n",
            "3.0    0.001034\n",
            "4.0    0.001696\n",
            "5.0    0.002654\n",
            "Name: Ht, dtype: float64\n",
            "InsuredInfo_9\n",
            "1.0   -0.000824\n",
            "2.0   -0.002199\n",
            "3.0    0.001034\n",
            "4.0    0.001696\n",
            "5.0    0.002654\n",
            "Name: Ht, dtype: float64\n"
          ],
          "name": "stdout"
        }
      ]
    },
    {
      "cell_type": "code",
      "metadata": {
        "id": "PyXYALc9wg1v",
        "colab_type": "code",
        "outputId": "edf3b418-f99f-47e9-eca5-ec3da8fa914f",
        "colab": {
          "base_uri": "https://localhost:8080/",
          "height": 430
        }
      },
      "source": [
        "Xplt=Xdec.copy()\n",
        "col='InsuredInfo_9'\n",
        "fig=plt.figure(figsize=(5, 5))\n",
        "plt.title('Correlation entre la religion et les autres colonnes')\n",
        "cr=abs(Xplt[Xplt.columns[1:]].corr()[col])<0.1\n",
        "cr2=abs(Xplt[Xplt.columns[1:]].corr()[col])>0.05\n",
        "Xplt[Xplt.columns[1:]].corr()[col][cr2].abs().sort_values(ascending=False).plot.bar()\n",
        "plt.savefig('fig.png')"
      ],
      "execution_count": 0,
      "outputs": [
        {
          "output_type": "display_data",
          "data": {
            "image/png": "[encoded data removed]",
            "text/plain": [
              "<Figure size 360x360 with 1 Axes>"
            ]
          },
          "metadata": {
            "tags": []
          }
        }
      ]
    },
    {
      "cell_type": "code",
      "metadata": {
        "id": "2dKAlq190ZiX",
        "colab_type": "code",
        "outputId": "2c98439e-923e-4ffe-9130-6a4574ec97eb",
        "colab": {
          "base_uri": "https://localhost:8080/",
          "height": 35
        }
      },
      "source": [
        "X=Xdec.copy()\n",
        "X[X.columns[1:]].corr()[col]['Ht']"
      ],
      "execution_count": 0,
      "outputs": [
        {
          "output_type": "execute_result",
          "data": {
            "text/plain": [
              "0.017634461262406705"
            ]
          },
          "metadata": {
            "tags": []
          },
          "execution_count": 19
        }
      ]
    },
    {
      "cell_type": "code",
      "metadata": {
        "id": "lJ9Q84iJOVAH",
        "colab_type": "code",
        "outputId": "7b5d6642-f597-4288-c49a-3a98c189be24",
        "colab": {
          "base_uri": "https://localhost:8080/",
          "height": 281
        }
      },
      "source": [
        "plt.hist(X['Response'], bins=[1,2,3,4,5,6,7,8,9], label=sorted(X.Response.unique()))\n",
        "plt.title('Repartition des classes')\n",
        "plt.savefig('repartition.png')"
      ],
      "execution_count": 0,
      "outputs": [
        {
          "output_type": "display_data",
          "data": {
            "image/png": "[encoded data removed]",
            "text/plain": [
              "<Figure size 432x288 with 1 Axes>"
            ]
          },
          "metadata": {
            "tags": []
          }
        }
      ]
    },
    {
      "cell_type": "code",
      "metadata": {
        "id": "xHvR3GeLHiEb",
        "colab_type": "code",
        "colab": {}
      },
      "source": [
        "#X=X.drop(columns=['InsuredInfo_7','InsuredInfo_8','InsuredInfo_9','Response'])\n",
        "X=X.drop(columns='Response')"
      ],
      "execution_count": 0,
      "outputs": []
    },
    {
      "cell_type": "code",
      "metadata": {
        "id": "Q0Ebdnj8qM9B",
        "colab_type": "code",
        "colab": {}
      },
      "source": [
        "#simp=IterativeImputer(max_iter=2, random_state=0)\n",
        "simp=SimpleImputer()\n",
        "Ximp=simp.fit_transform(X)"
      ],
      "execution_count": 0,
      "outputs": []
    },
    {
      "cell_type": "code",
      "metadata": {
        "id": "CfoXkt-6qmrN",
        "colab_type": "code",
        "colab": {}
      },
      "source": [
        "Xtrunc=Ximp[:9999,:]\n",
        "ytrunc=y[:9999]"
      ],
      "execution_count": 0,
      "outputs": []
    },
    {
      "cell_type": "code",
      "metadata": {
        "id": "0LzZBK83qo29",
        "colab_type": "code",
        "colab": {}
      },
      "source": [
        "X_train, X_test, y_train, y_test = train_test_split(\n",
        "    Ximp, y, random_state=0)"
      ],
      "execution_count": 0,
      "outputs": []
    },
    {
      "cell_type": "code",
      "metadata": {
        "id": "sDDc7CDpq0lC",
        "colab_type": "code",
        "colab": {}
      },
      "source": [
        "# Use each type of scaler and train a SVC model for each one.\n",
        "# Which one is the best ?\n",
        "\n",
        "# MaxAbsScaler\n",
        "from sklearn.preprocessing import MaxAbsScaler\n",
        "\n",
        "scaler_maxabs = MaxAbsScaler()\n",
        "scaler_maxabs.fit(Ximp)\n",
        "\n",
        "X_train_scaled_maxabs = scaler_maxabs.transform(X_train)\n",
        "X_test_scaled_maxabs  = scaler_maxabs.transform(X_test)\n",
        "\n"
      ],
      "execution_count": 0,
      "outputs": []
    },
    {
      "cell_type": "markdown",
      "metadata": {
        "id": "NzOvQ1eGDRis",
        "colab_type": "text"
      },
      "source": [
        "# SVC"
      ]
    },
    {
      "cell_type": "code",
      "metadata": {
        "id": "2W_0xfFoDLqM",
        "colab_type": "code",
        "colab": {}
      },
      "source": [
        "svc_maxabs = SVC(C=100, gamma=\"auto\")\n",
        "svc_maxabs.fit(X_train_scaled_maxabs, y_train)\n",
        "print(\"[MaxAbsScaler] accuracy  =\", svc_maxabs.score(\n",
        "    X_test_scaled_maxabs, y_test))"
      ],
      "execution_count": 0,
      "outputs": []
    },
    {
      "cell_type": "markdown",
      "metadata": {
        "id": "i1PnIBk3Cciq",
        "colab_type": "text"
      },
      "source": [
        "# PCA"
      ]
    },
    {
      "cell_type": "code",
      "metadata": {
        "id": "H0n4LmcvzkdG",
        "colab_type": "code",
        "colab": {}
      },
      "source": [
        "X_scaled=scaler_maxabs.transform(Ximp)"
      ],
      "execution_count": 0,
      "outputs": []
    },
    {
      "cell_type": "code",
      "metadata": {
        "id": "Tzjys9U6sTB2",
        "colab_type": "code",
        "outputId": "e607d7c2-243c-4558-d9c3-ecb7bd7b3029",
        "colab": {
          "base_uri": "https://localhost:8080/",
          "height": 54
        }
      },
      "source": [
        "# Now we can use PCA.\n",
        "from sklearn.decomposition import PCA\n",
        "\n",
        "# Use the documentation of PCA to create a model that will\n",
        "# only keep 2 components.\n",
        "pca = PCA(n_components=5)\n",
        "\n",
        "# Then call the .fit() method of PCA on your scaled data.\n",
        "pca.fit(X_scaled)"
      ],
      "execution_count": 0,
      "outputs": [
        {
          "output_type": "execute_result",
          "data": {
            "text/plain": [
              "PCA(copy=True, iterated_power='auto', n_components=5, random_state=None,\n",
              "    svd_solver='auto', tol=0.0, whiten=False)"
            ]
          },
          "metadata": {
            "tags": []
          },
          "execution_count": 47
        }
      ]
    },
    {
      "cell_type": "code",
      "metadata": {
        "id": "xvrd4v2isdnN",
        "colab_type": "code",
        "outputId": "f9ef7b1b-8928-4ad1-efbb-001e121a3152",
        "colab": {
          "base_uri": "https://localhost:8080/",
          "height": 54
        }
      },
      "source": [
        "X_pca = pca.transform(X_scaled)\n",
        "print(\"Shape before PCA:\", X_scaled.shape)\n",
        "print(\"Shape after PCA:\", X_pca.shape)"
      ],
      "execution_count": 0,
      "outputs": [
        {
          "output_type": "stream",
          "text": [
            "Shape before PCA: (58881, 125)\n",
            "Shape after PCA: (58881, 5)\n"
          ],
          "name": "stdout"
        }
      ]
    },
    {
      "cell_type": "code",
      "metadata": {
        "id": "R-p_w-oOslzB",
        "colab_type": "code",
        "colab": {}
      },
      "source": [
        "X_pca_train, X_pca_test, y_train, y_test = train_test_split(\n",
        "    X_pca, y, random_state=7)"
      ],
      "execution_count": 0,
      "outputs": []
    },
    {
      "cell_type": "code",
      "metadata": {
        "id": "M1grrUK7tVjq",
        "colab_type": "code",
        "outputId": "f9c4c3a6-29f8-4c25-ce12-7d5d50bbb89a",
        "colab": {
          "base_uri": "https://localhost:8080/",
          "height": 35
        }
      },
      "source": [
        "svc_pca = SVC(C=100, gamma=\"auto\")\n",
        "svc_pca.fit(X_pca_train, y_train)\n",
        "print(\"[pca] accuracy  =\", svc_pca.score(\n",
        "    X_pca_test, y_test))"
      ],
      "execution_count": 0,
      "outputs": [
        {
          "output_type": "stream",
          "text": [
            "[pca] accuracy  = 0.4112\n"
          ],
          "name": "stdout"
        }
      ]
    },
    {
      "cell_type": "markdown",
      "metadata": {
        "id": "djvh-04pCWwi",
        "colab_type": "text"
      },
      "source": [
        "# Neural Network"
      ]
    },
    {
      "cell_type": "code",
      "metadata": {
        "id": "ZilEQhySEHK5",
        "colab_type": "code",
        "colab": {}
      },
      "source": [
        "!pip install keras==2.3.0"
      ],
      "execution_count": 0,
      "outputs": []
    },
    {
      "cell_type": "code",
      "metadata": {
        "id": "ULvrivT2CnG5",
        "colab_type": "code",
        "outputId": "7058bc53-ccd3-4553-9995-f1d18c565a96",
        "colab": {
          "base_uri": "https://localhost:8080/",
          "height": 72
        }
      },
      "source": [
        "%tensorflow_version 2.x\n",
        "import tensorflow\n",
        "import keras\n",
        "print(keras.__version__)\n",
        "from keras.models import Sequential,load_model\n",
        "from keras.layers import Dense, Dropout\n",
        "from keras.utils import to_categorical\n",
        "from keras.callbacks import EarlyStopping, ModelCheckpoint\n",
        "from matplotlib import pyplot"
      ],
      "execution_count": 0,
      "outputs": [
        {
          "output_type": "stream",
          "text": [
            "TensorFlow 2.x selected.\n",
            "2.3.0\n"
          ],
          "name": "stdout"
        },
        {
          "output_type": "stream",
          "text": [
            "Using TensorFlow backend.\n"
          ],
          "name": "stderr"
        }
      ]
    },
    {
      "cell_type": "code",
      "metadata": {
        "id": "CZHhYfQAIneF",
        "colab_type": "code",
        "colab": {}
      },
      "source": [
        "y_trainInt = to_categorical(y_train)[:,1:]\n",
        "y_testInt = to_categorical(y_test)[:,1:]"
      ],
      "execution_count": 0,
      "outputs": []
    },
    {
      "cell_type": "code",
      "metadata": {
        "id": "_cco0TtLOnLH",
        "colab_type": "code",
        "outputId": "d25f7901-a699-4afe-9054-3525dba25ea3",
        "colab": {
          "base_uri": "https://localhost:8080/",
          "height": 164
        }
      },
      "source": [
        "np.unique(y_trainInt, axis=0)"
      ],
      "execution_count": 0,
      "outputs": [
        {
          "output_type": "execute_result",
          "data": {
            "text/plain": [
              "array([[0., 0., 0., 0., 0., 0., 0., 1.],\n",
              "       [0., 0., 0., 0., 0., 0., 1., 0.],\n",
              "       [0., 0., 0., 0., 0., 1., 0., 0.],\n",
              "       [0., 0., 0., 0., 1., 0., 0., 0.],\n",
              "       [0., 0., 0., 1., 0., 0., 0., 0.],\n",
              "       [0., 0., 1., 0., 0., 0., 0., 0.],\n",
              "       [0., 1., 0., 0., 0., 0., 0., 0.],\n",
              "       [1., 0., 0., 0., 0., 0., 0., 0.]], dtype=float32)"
            ]
          },
          "metadata": {
            "tags": []
          },
          "execution_count": 29
        }
      ]
    },
    {
      "cell_type": "markdown",
      "metadata": {
        "id": "dcaXcWAd2C3W",
        "colab_type": "text"
      },
      "source": [
        "# PCA+NN"
      ]
    },
    {
      "cell_type": "code",
      "metadata": {
        "id": "jKEBOSE31p3d",
        "colab_type": "code",
        "colab": {}
      },
      "source": [
        "model_pca=Sequential()\n",
        "model_pca.add(Dense(10, input_dim=5, activation='relu'))\n",
        "model_pca.add(Dense(9, activation='softmax'))"
      ],
      "execution_count": 0,
      "outputs": []
    },
    {
      "cell_type": "code",
      "metadata": {
        "id": "_7fDS9g72M5r",
        "colab_type": "code",
        "colab": {}
      },
      "source": [
        "model_pca.compile(loss='categorical_crossentropy',\n",
        "              optimizer='adam',\n",
        "              metrics=['accuracy'])# adam"
      ],
      "execution_count": 0,
      "outputs": []
    },
    {
      "cell_type": "code",
      "metadata": {
        "id": "4t1b9aHH2PsG",
        "colab_type": "code",
        "colab": {}
      },
      "source": [
        "# x_train and y_train are Numpy arrays --just like in the Scikit-Learn API.\n",
        "history=model_pca.fit(X_pca_train, y_trainInt, epochs=20, validation_split=0.1)"
      ],
      "execution_count": 0,
      "outputs": []
    },
    {
      "cell_type": "code",
      "metadata": {
        "id": "FTYWtNw-2V5h",
        "colab_type": "code",
        "outputId": "e74effc7-ed54-42d6-ddb1-19aa6ea90db3",
        "colab": {
          "base_uri": "https://localhost:8080/",
          "height": 302
        }
      },
      "source": [
        "loss_and_metrics = model_pca.evaluate(X_pca_test, y_testInt)\n",
        "print(loss_and_metrics)\n",
        "\n",
        "# plot training history\n",
        "pyplot.plot(history.history['accuracy'], label='train')\n",
        "pyplot.plot(history.history['val_accuracy'], label='test')\n",
        "pyplot.legend()\n",
        "pyplot.show()"
      ],
      "execution_count": 0,
      "outputs": [
        {
          "output_type": "stream",
          "text": [
            "14721/14721 [==============================] - 1s 49us/step\n",
            "[1.592750065519097, 0.4072413444519043]\n"
          ],
          "name": "stdout"
        },
        {
          "output_type": "display_data",
          "data": {
            "image/png": "[encoded data removed]",
            "text/plain": [
              "<Figure size 432x288 with 1 Axes>"
            ]
          },
          "metadata": {
            "tags": []
          }
        }
      ]
    },
    {
      "cell_type": "markdown",
      "metadata": {
        "id": "sbZuhHyb2H-x",
        "colab_type": "text"
      },
      "source": [
        "# NN no PCA"
      ]
    },
    {
      "cell_type": "code",
      "metadata": {
        "id": "Yr0_G3orCg1e",
        "colab_type": "code",
        "colab": {}
      },
      "source": [
        "# define the keras model\n",
        "model = Sequential()\n",
        "model.add(Dense(128, input_dim=128, activation='relu'))\n",
        "model.add(Dense(64, activation='relu'))\n",
        "model.add(Dense(16, activation='relu'))\n",
        "model.add(Dropout(0.2))\n",
        "model.add(Dense(8, activation='softmax'))\n"
      ],
      "execution_count": 0,
      "outputs": []
    },
    {
      "cell_type": "code",
      "metadata": {
        "id": "sYSyq7LAEbEe",
        "colab_type": "code",
        "colab": {}
      },
      "source": [
        "model.compile(loss='categorical_crossentropy',\n",
        "              optimizer='adam',\n",
        "              metrics=['accuracy'])# adam"
      ],
      "execution_count": 0,
      "outputs": []
    },
    {
      "cell_type": "code",
      "metadata": {
        "id": "02V8CJiSrnDJ",
        "colab_type": "code",
        "colab": {}
      },
      "source": [
        "es = EarlyStopping(monitor='val_accuracy', mode='max', min_delta=1)\n",
        "mc = ModelCheckpoint('best_model.h5', monitor='val_accuracy', mode='max', verbose=1, save_best_only=True)"
      ],
      "execution_count": 0,
      "outputs": []
    },
    {
      "cell_type": "code",
      "metadata": {
        "id": "urJJ9HyLEg7u",
        "colab_type": "code",
        "outputId": "0e39f407-15f9-4627-9392-4395cba32b35",
        "colab": {
          "base_uri": "https://localhost:8080/",
          "height": 473
        }
      },
      "source": [
        "# x_train and y_train are Numpy arrays --just like in the Scikit-Learn API.\n",
        "history=model.fit(X_train_scaled_maxabs, y_trainInt, epochs=50, validation_split=0.1, callbacks=[mc])"
      ],
      "execution_count": 0,
      "outputs": [
        {
          "output_type": "stream",
          "text": [
            "Train on 39744 samples, validate on 4416 samples\n",
            "Epoch 1/50\n",
            "20256/39744 [==============>...............] - ETA: 2s - loss: 1.0480 - accuracy: 0.6251"
          ],
          "name": "stdout"
        },
        {
          "output_type": "error",
          "ename": "KeyboardInterrupt",
          "evalue": "ignored",
          "traceback": [
            "\u001b[0;31m---------------------------------------------------------------------------\u001b[0m",
            "\u001b[0;31mKeyboardInterrupt\u001b[0m                         Traceback (most recent call last)",
            "\u001b[0;32m<ipython-input-34-9e20bd8cc59f>\u001b[0m in \u001b[0;36m<module>\u001b[0;34m()\u001b[0m\n\u001b[0;32m----> 1\u001b[0;31m \u001b[0mhistory\u001b[0m\u001b[0;34m=\u001b[0m\u001b[0mmodel\u001b[0m\u001b[0;34m.\u001b[0m\u001b[0mfit\u001b[0m\u001b[0;34m(\u001b[0m\u001b[0mX_train_scaled_maxabs\u001b[0m\u001b[0;34m,\u001b[0m \u001b[0my_trainInt\u001b[0m\u001b[0;34m,\u001b[0m \u001b[0mepochs\u001b[0m\u001b[0;34m=\u001b[0m\u001b[0;36m50\u001b[0m\u001b[0;34m,\u001b[0m \u001b[0mvalidation_split\u001b[0m\u001b[0;34m=\u001b[0m\u001b[0;36m0.1\u001b[0m\u001b[0;34m,\u001b[0m \u001b[0mcallbacks\u001b[0m\u001b[0;34m=\u001b[0m\u001b[0;34m[\u001b[0m\u001b[0mmc\u001b[0m\u001b[0;34m]\u001b[0m\u001b[0;34m)\u001b[0m\u001b[0;34m\u001b[0m\u001b[0;34m\u001b[0m\u001b[0m\n\u001b[0m",
            "\u001b[0;32m/usr/local/lib/python3.6/dist-packages/keras/engine/training.py\u001b[0m in \u001b[0;36mfit\u001b[0;34m(self, x, y, batch_size, epochs, verbose, callbacks, validation_split, validation_data, shuffle, class_weight, sample_weight, initial_epoch, steps_per_epoch, validation_steps, validation_freq, max_queue_size, workers, use_multiprocessing, **kwargs)\u001b[0m\n\u001b[1;32m   1237\u001b[0m                                         \u001b[0msteps_per_epoch\u001b[0m\u001b[0;34m=\u001b[0m\u001b[0msteps_per_epoch\u001b[0m\u001b[0;34m,\u001b[0m\u001b[0;34m\u001b[0m\u001b[0;34m\u001b[0m\u001b[0m\n\u001b[1;32m   1238\u001b[0m                                         \u001b[0mvalidation_steps\u001b[0m\u001b[0;34m=\u001b[0m\u001b[0mvalidation_steps\u001b[0m\u001b[0;34m,\u001b[0m\u001b[0;34m\u001b[0m\u001b[0;34m\u001b[0m\u001b[0m\n\u001b[0;32m-> 1239\u001b[0;31m                                         validation_freq=validation_freq)\n\u001b[0m\u001b[1;32m   1240\u001b[0m \u001b[0;34m\u001b[0m\u001b[0m\n\u001b[1;32m   1241\u001b[0m     def evaluate(self,\n",
            "\u001b[0;32m/usr/local/lib/python3.6/dist-packages/keras/engine/training_arrays.py\u001b[0m in \u001b[0;36mfit_loop\u001b[0;34m(model, fit_function, fit_inputs, out_labels, batch_size, epochs, verbose, callbacks, val_function, val_inputs, shuffle, initial_epoch, steps_per_epoch, validation_steps, validation_freq)\u001b[0m\n\u001b[1;32m    199\u001b[0m                     \u001b[0mbatch_logs\u001b[0m\u001b[0;34m[\u001b[0m\u001b[0ml\u001b[0m\u001b[0;34m]\u001b[0m \u001b[0;34m=\u001b[0m \u001b[0mo\u001b[0m\u001b[0;34m\u001b[0m\u001b[0;34m\u001b[0m\u001b[0m\n\u001b[1;32m    200\u001b[0m \u001b[0;34m\u001b[0m\u001b[0m\n\u001b[0;32m--> 201\u001b[0;31m                 \u001b[0mcallbacks\u001b[0m\u001b[0;34m.\u001b[0m\u001b[0m_call_batch_hook\u001b[0m\u001b[0;34m(\u001b[0m\u001b[0;34m'train'\u001b[0m\u001b[0;34m,\u001b[0m \u001b[0;34m'end'\u001b[0m\u001b[0;34m,\u001b[0m \u001b[0mbatch_index\u001b[0m\u001b[0;34m,\u001b[0m \u001b[0mbatch_logs\u001b[0m\u001b[0;34m)\u001b[0m\u001b[0;34m\u001b[0m\u001b[0;34m\u001b[0m\u001b[0m\n\u001b[0m\u001b[1;32m    202\u001b[0m                 \u001b[0;32mif\u001b[0m \u001b[0mcallbacks\u001b[0m\u001b[0;34m.\u001b[0m\u001b[0mmodel\u001b[0m\u001b[0;34m.\u001b[0m\u001b[0mstop_training\u001b[0m\u001b[0;34m:\u001b[0m\u001b[0;34m\u001b[0m\u001b[0;34m\u001b[0m\u001b[0m\n\u001b[1;32m    203\u001b[0m                     \u001b[0;32mbreak\u001b[0m\u001b[0;34m\u001b[0m\u001b[0;34m\u001b[0m\u001b[0m\n",
            "\u001b[0;32m/usr/local/lib/python3.6/dist-packages/keras/callbacks/callbacks.py\u001b[0m in \u001b[0;36m_call_batch_hook\u001b[0;34m(self, mode, hook, batch, logs)\u001b[0m\n\u001b[1;32m     86\u001b[0m         \u001b[0mself\u001b[0m\u001b[0;34m.\u001b[0m\u001b[0m_delta_ts\u001b[0m\u001b[0;34m[\u001b[0m\u001b[0mhook_name\u001b[0m\u001b[0;34m]\u001b[0m\u001b[0;34m.\u001b[0m\u001b[0mappend\u001b[0m\u001b[0;34m(\u001b[0m\u001b[0mtime\u001b[0m\u001b[0;34m.\u001b[0m\u001b[0mtime\u001b[0m\u001b[0;34m(\u001b[0m\u001b[0;34m)\u001b[0m \u001b[0;34m-\u001b[0m \u001b[0mt_before_callbacks\u001b[0m\u001b[0;34m)\u001b[0m\u001b[0;34m\u001b[0m\u001b[0;34m\u001b[0m\u001b[0m\n\u001b[1;32m     87\u001b[0m \u001b[0;34m\u001b[0m\u001b[0m\n\u001b[0;32m---> 88\u001b[0;31m         \u001b[0mdelta_t_median\u001b[0m \u001b[0;34m=\u001b[0m \u001b[0mnp\u001b[0m\u001b[0;34m.\u001b[0m\u001b[0mmedian\u001b[0m\u001b[0;34m(\u001b[0m\u001b[0mself\u001b[0m\u001b[0;34m.\u001b[0m\u001b[0m_delta_ts\u001b[0m\u001b[0;34m[\u001b[0m\u001b[0mhook_name\u001b[0m\u001b[0;34m]\u001b[0m\u001b[0;34m)\u001b[0m\u001b[0;34m\u001b[0m\u001b[0;34m\u001b[0m\u001b[0m\n\u001b[0m\u001b[1;32m     89\u001b[0m         if (self._delta_t_batch > 0. and\n\u001b[1;32m     90\u001b[0m            \u001b[0mdelta_t_median\u001b[0m \u001b[0;34m>\u001b[0m \u001b[0;36m0.95\u001b[0m \u001b[0;34m*\u001b[0m \u001b[0mself\u001b[0m\u001b[0;34m.\u001b[0m\u001b[0m_delta_t_batch\u001b[0m \u001b[0;32mand\u001b[0m\u001b[0;34m\u001b[0m\u001b[0;34m\u001b[0m\u001b[0m\n",
            "\u001b[0;32m<__array_function__ internals>\u001b[0m in \u001b[0;36mmedian\u001b[0;34m(*args, **kwargs)\u001b[0m\n",
            "\u001b[0;32m/usr/local/lib/python3.6/dist-packages/numpy/lib/function_base.py\u001b[0m in \u001b[0;36mmedian\u001b[0;34m(a, axis, out, overwrite_input, keepdims)\u001b[0m\n\u001b[1;32m   3500\u001b[0m     \"\"\"\n\u001b[1;32m   3501\u001b[0m     r, k = _ureduce(a, func=_median, axis=axis, out=out,\n\u001b[0;32m-> 3502\u001b[0;31m                     overwrite_input=overwrite_input)\n\u001b[0m\u001b[1;32m   3503\u001b[0m     \u001b[0;32mif\u001b[0m \u001b[0mkeepdims\u001b[0m\u001b[0;34m:\u001b[0m\u001b[0;34m\u001b[0m\u001b[0;34m\u001b[0m\u001b[0m\n\u001b[1;32m   3504\u001b[0m         \u001b[0;32mreturn\u001b[0m \u001b[0mr\u001b[0m\u001b[0;34m.\u001b[0m\u001b[0mreshape\u001b[0m\u001b[0;34m(\u001b[0m\u001b[0mk\u001b[0m\u001b[0;34m)\u001b[0m\u001b[0;34m\u001b[0m\u001b[0;34m\u001b[0m\u001b[0m\n",
            "\u001b[0;32m/usr/local/lib/python3.6/dist-packages/numpy/lib/function_base.py\u001b[0m in \u001b[0;36m_ureduce\u001b[0;34m(a, func, **kwargs)\u001b[0m\n\u001b[1;32m   3408\u001b[0m         \u001b[0mkeepdim\u001b[0m \u001b[0;34m=\u001b[0m \u001b[0;34m(\u001b[0m\u001b[0;36m1\u001b[0m\u001b[0;34m,\u001b[0m\u001b[0;34m)\u001b[0m \u001b[0;34m*\u001b[0m \u001b[0ma\u001b[0m\u001b[0;34m.\u001b[0m\u001b[0mndim\u001b[0m\u001b[0;34m\u001b[0m\u001b[0;34m\u001b[0m\u001b[0m\n\u001b[1;32m   3409\u001b[0m \u001b[0;34m\u001b[0m\u001b[0m\n\u001b[0;32m-> 3410\u001b[0;31m     \u001b[0mr\u001b[0m \u001b[0;34m=\u001b[0m \u001b[0mfunc\u001b[0m\u001b[0;34m(\u001b[0m\u001b[0ma\u001b[0m\u001b[0;34m,\u001b[0m \u001b[0;34m**\u001b[0m\u001b[0mkwargs\u001b[0m\u001b[0;34m)\u001b[0m\u001b[0;34m\u001b[0m\u001b[0;34m\u001b[0m\u001b[0m\n\u001b[0m\u001b[1;32m   3411\u001b[0m     \u001b[0;32mreturn\u001b[0m \u001b[0mr\u001b[0m\u001b[0;34m,\u001b[0m \u001b[0mkeepdim\u001b[0m\u001b[0;34m\u001b[0m\u001b[0;34m\u001b[0m\u001b[0m\n\u001b[1;32m   3412\u001b[0m \u001b[0;34m\u001b[0m\u001b[0m\n",
            "\u001b[0;32m/usr/local/lib/python3.6/dist-packages/numpy/lib/function_base.py\u001b[0m in \u001b[0;36m_median\u001b[0;34m(a, axis, out, overwrite_input)\u001b[0m\n\u001b[1;32m   3554\u001b[0m         \u001b[0;31m# warn and return nans like mean would\u001b[0m\u001b[0;34m\u001b[0m\u001b[0;34m\u001b[0m\u001b[0;34m\u001b[0m\u001b[0m\n\u001b[1;32m   3555\u001b[0m         \u001b[0mrout\u001b[0m \u001b[0;34m=\u001b[0m \u001b[0mmean\u001b[0m\u001b[0;34m(\u001b[0m\u001b[0mpart\u001b[0m\u001b[0;34m[\u001b[0m\u001b[0mindexer\u001b[0m\u001b[0;34m]\u001b[0m\u001b[0;34m,\u001b[0m \u001b[0maxis\u001b[0m\u001b[0;34m=\u001b[0m\u001b[0maxis\u001b[0m\u001b[0;34m,\u001b[0m \u001b[0mout\u001b[0m\u001b[0;34m=\u001b[0m\u001b[0mout\u001b[0m\u001b[0;34m)\u001b[0m\u001b[0;34m\u001b[0m\u001b[0;34m\u001b[0m\u001b[0m\n\u001b[0;32m-> 3556\u001b[0;31m         \u001b[0;32mreturn\u001b[0m \u001b[0mnp\u001b[0m\u001b[0;34m.\u001b[0m\u001b[0mlib\u001b[0m\u001b[0;34m.\u001b[0m\u001b[0mutils\u001b[0m\u001b[0;34m.\u001b[0m\u001b[0m_median_nancheck\u001b[0m\u001b[0;34m(\u001b[0m\u001b[0mpart\u001b[0m\u001b[0;34m,\u001b[0m \u001b[0mrout\u001b[0m\u001b[0;34m,\u001b[0m \u001b[0maxis\u001b[0m\u001b[0;34m,\u001b[0m \u001b[0mout\u001b[0m\u001b[0;34m)\u001b[0m\u001b[0;34m\u001b[0m\u001b[0;34m\u001b[0m\u001b[0m\n\u001b[0m\u001b[1;32m   3557\u001b[0m     \u001b[0;32melse\u001b[0m\u001b[0;34m:\u001b[0m\u001b[0;34m\u001b[0m\u001b[0;34m\u001b[0m\u001b[0m\n\u001b[1;32m   3558\u001b[0m         \u001b[0;31m# if there are no nans\u001b[0m\u001b[0;34m\u001b[0m\u001b[0;34m\u001b[0m\u001b[0;34m\u001b[0m\u001b[0m\n",
            "\u001b[0;32m/usr/local/lib/python3.6/dist-packages/numpy/lib/utils.py\u001b[0m in \u001b[0;36m_median_nancheck\u001b[0;34m(data, result, axis, out)\u001b[0m\n\u001b[1;32m   1162\u001b[0m     \u001b[0;32mif\u001b[0m \u001b[0mdata\u001b[0m\u001b[0;34m.\u001b[0m\u001b[0msize\u001b[0m \u001b[0;34m==\u001b[0m \u001b[0;36m0\u001b[0m\u001b[0;34m:\u001b[0m\u001b[0;34m\u001b[0m\u001b[0;34m\u001b[0m\u001b[0m\n\u001b[1;32m   1163\u001b[0m         \u001b[0;32mreturn\u001b[0m \u001b[0mresult\u001b[0m\u001b[0;34m\u001b[0m\u001b[0;34m\u001b[0m\u001b[0m\n\u001b[0;32m-> 1164\u001b[0;31m     \u001b[0mdata\u001b[0m \u001b[0;34m=\u001b[0m \u001b[0mnp\u001b[0m\u001b[0;34m.\u001b[0m\u001b[0mmoveaxis\u001b[0m\u001b[0;34m(\u001b[0m\u001b[0mdata\u001b[0m\u001b[0;34m,\u001b[0m \u001b[0maxis\u001b[0m\u001b[0;34m,\u001b[0m \u001b[0;34m-\u001b[0m\u001b[0;36m1\u001b[0m\u001b[0;34m)\u001b[0m\u001b[0;34m\u001b[0m\u001b[0;34m\u001b[0m\u001b[0m\n\u001b[0m\u001b[1;32m   1165\u001b[0m     \u001b[0mn\u001b[0m \u001b[0;34m=\u001b[0m \u001b[0mnp\u001b[0m\u001b[0;34m.\u001b[0m\u001b[0misnan\u001b[0m\u001b[0;34m(\u001b[0m\u001b[0mdata\u001b[0m\u001b[0;34m[\u001b[0m\u001b[0;34m...\u001b[0m\u001b[0;34m,\u001b[0m \u001b[0;34m-\u001b[0m\u001b[0;36m1\u001b[0m\u001b[0;34m]\u001b[0m\u001b[0;34m)\u001b[0m\u001b[0;34m\u001b[0m\u001b[0;34m\u001b[0m\u001b[0m\n\u001b[1;32m   1166\u001b[0m     \u001b[0;31m# masked NaN values are ok\u001b[0m\u001b[0;34m\u001b[0m\u001b[0;34m\u001b[0m\u001b[0;34m\u001b[0m\u001b[0m\n",
            "\u001b[0;32m<__array_function__ internals>\u001b[0m in \u001b[0;36mmoveaxis\u001b[0;34m(*args, **kwargs)\u001b[0m\n",
            "\u001b[0;32m/usr/local/lib/python3.6/dist-packages/numpy/core/numeric.py\u001b[0m in \u001b[0;36mmoveaxis\u001b[0;34m(a, source, destination)\u001b[0m\n\u001b[1;32m   1391\u001b[0m         \u001b[0mtranspose\u001b[0m \u001b[0;34m=\u001b[0m \u001b[0ma\u001b[0m\u001b[0;34m.\u001b[0m\u001b[0mtranspose\u001b[0m\u001b[0;34m\u001b[0m\u001b[0;34m\u001b[0m\u001b[0m\n\u001b[1;32m   1392\u001b[0m \u001b[0;34m\u001b[0m\u001b[0m\n\u001b[0;32m-> 1393\u001b[0;31m     \u001b[0msource\u001b[0m \u001b[0;34m=\u001b[0m \u001b[0mnormalize_axis_tuple\u001b[0m\u001b[0;34m(\u001b[0m\u001b[0msource\u001b[0m\u001b[0;34m,\u001b[0m \u001b[0ma\u001b[0m\u001b[0;34m.\u001b[0m\u001b[0mndim\u001b[0m\u001b[0;34m,\u001b[0m \u001b[0;34m'source'\u001b[0m\u001b[0;34m)\u001b[0m\u001b[0;34m\u001b[0m\u001b[0;34m\u001b[0m\u001b[0m\n\u001b[0m\u001b[1;32m   1394\u001b[0m     \u001b[0mdestination\u001b[0m \u001b[0;34m=\u001b[0m \u001b[0mnormalize_axis_tuple\u001b[0m\u001b[0;34m(\u001b[0m\u001b[0mdestination\u001b[0m\u001b[0;34m,\u001b[0m \u001b[0ma\u001b[0m\u001b[0;34m.\u001b[0m\u001b[0mndim\u001b[0m\u001b[0;34m,\u001b[0m \u001b[0;34m'destination'\u001b[0m\u001b[0;34m)\u001b[0m\u001b[0;34m\u001b[0m\u001b[0;34m\u001b[0m\u001b[0m\n\u001b[1;32m   1395\u001b[0m     \u001b[0;32mif\u001b[0m \u001b[0mlen\u001b[0m\u001b[0;34m(\u001b[0m\u001b[0msource\u001b[0m\u001b[0;34m)\u001b[0m \u001b[0;34m!=\u001b[0m \u001b[0mlen\u001b[0m\u001b[0;34m(\u001b[0m\u001b[0mdestination\u001b[0m\u001b[0;34m)\u001b[0m\u001b[0;34m:\u001b[0m\u001b[0;34m\u001b[0m\u001b[0;34m\u001b[0m\u001b[0m\n",
            "\u001b[0;32m/usr/local/lib/python3.6/dist-packages/numpy/core/numeric.py\u001b[0m in \u001b[0;36mnormalize_axis_tuple\u001b[0;34m(axis, ndim, argname, allow_duplicate)\u001b[0m\n\u001b[1;32m   1321\u001b[0m             \u001b[0;32mpass\u001b[0m\u001b[0;34m\u001b[0m\u001b[0;34m\u001b[0m\u001b[0m\n\u001b[1;32m   1322\u001b[0m     \u001b[0;31m# Going via an iterator directly is slower than via list comprehension.\u001b[0m\u001b[0;34m\u001b[0m\u001b[0;34m\u001b[0m\u001b[0;34m\u001b[0m\u001b[0m\n\u001b[0;32m-> 1323\u001b[0;31m     \u001b[0maxis\u001b[0m \u001b[0;34m=\u001b[0m \u001b[0mtuple\u001b[0m\u001b[0;34m(\u001b[0m\u001b[0;34m[\u001b[0m\u001b[0mnormalize_axis_index\u001b[0m\u001b[0;34m(\u001b[0m\u001b[0max\u001b[0m\u001b[0;34m,\u001b[0m \u001b[0mndim\u001b[0m\u001b[0;34m,\u001b[0m \u001b[0margname\u001b[0m\u001b[0;34m)\u001b[0m \u001b[0;32mfor\u001b[0m \u001b[0max\u001b[0m \u001b[0;32min\u001b[0m \u001b[0maxis\u001b[0m\u001b[0;34m]\u001b[0m\u001b[0;34m)\u001b[0m\u001b[0;34m\u001b[0m\u001b[0;34m\u001b[0m\u001b[0m\n\u001b[0m\u001b[1;32m   1324\u001b[0m     \u001b[0;32mif\u001b[0m \u001b[0;32mnot\u001b[0m \u001b[0mallow_duplicate\u001b[0m \u001b[0;32mand\u001b[0m \u001b[0mlen\u001b[0m\u001b[0;34m(\u001b[0m\u001b[0mset\u001b[0m\u001b[0;34m(\u001b[0m\u001b[0maxis\u001b[0m\u001b[0;34m)\u001b[0m\u001b[0;34m)\u001b[0m \u001b[0;34m!=\u001b[0m \u001b[0mlen\u001b[0m\u001b[0;34m(\u001b[0m\u001b[0maxis\u001b[0m\u001b[0;34m)\u001b[0m\u001b[0;34m:\u001b[0m\u001b[0;34m\u001b[0m\u001b[0;34m\u001b[0m\u001b[0m\n\u001b[1;32m   1325\u001b[0m         \u001b[0;32mif\u001b[0m \u001b[0margname\u001b[0m\u001b[0;34m:\u001b[0m\u001b[0;34m\u001b[0m\u001b[0;34m\u001b[0m\u001b[0m\n",
            "\u001b[0;31mKeyboardInterrupt\u001b[0m: "
          ]
        }
      ]
    },
    {
      "cell_type": "code",
      "metadata": {
        "id": "Ged9Wn0EEncR",
        "colab_type": "code",
        "outputId": "0808c149-d2c5-4244-aef2-e2c30d9eb4c6",
        "colab": {
          "base_uri": "https://localhost:8080/",
          "height": 265
        }
      },
      "source": [
        "# plot training history\n",
        "pyplot.plot(history.history['accuracy'], label='train')\n",
        "pyplot.plot(history.history['val_accuracy'], label='test')\n",
        "pyplot.legend()\n",
        "pyplot.show()"
      ],
      "execution_count": 0,
      "outputs": [
        {
          "output_type": "display_data",
          "data": {
            "image/png": "[encoded data removed]",
            "text/plain": [
              "<Figure size 432x288 with 1 Axes>"
            ]
          },
          "metadata": {
            "tags": []
          }
        }
      ]
    },
    {
      "cell_type": "code",
      "metadata": {
        "id": "cg-PDzbosaad",
        "colab_type": "code",
        "outputId": "23902a68-c3c1-4985-ee21-abce283af706",
        "colab": {
          "base_uri": "https://localhost:8080/",
          "height": 35
        }
      },
      "source": [
        "# load the saved model\n",
        "saved_model = load_model('best_model.h5')\n",
        "# evaluate the model\n",
        "_, train_acc = saved_model.evaluate(X_train_scaled_maxabs, y_trainInt, verbose=0)\n",
        "_, test_acc = saved_model.evaluate(X_test_scaled_maxabs, y_testInt, verbose=0)\n",
        "\n",
        "print(train_acc, test_acc)"
      ],
      "execution_count": 0,
      "outputs": [
        {
          "output_type": "stream",
          "text": [
            "0.6108469367027283 0.550777792930603\n"
          ],
          "name": "stdout"
        }
      ]
    },
    {
      "cell_type": "code",
      "metadata": {
        "id": "zqzNBzfMr1pw",
        "colab_type": "code",
        "outputId": "73951b60-fc4c-4547-f752-d6748f1721b1",
        "colab": {
          "base_uri": "https://localhost:8080/",
          "height": 35
        }
      },
      "source": [
        "testpred=np.argmax(saved_model.predict(X_test_scaled_maxabs), axis=1)\n",
        "test_acc2=np.sum(np.abs(testpred-np.argmax(y_testInt, axis=1)))/len(y_test)\n",
        "print(test_acc2)"
      ],
      "execution_count": 0,
      "outputs": [
        {
          "output_type": "stream",
          "text": [
            "1.2236261123564975\n"
          ],
          "name": "stdout"
        }
      ]
    },
    {
      "cell_type": "code",
      "metadata": {
        "id": "66pZtVdqugi2",
        "colab_type": "code",
        "outputId": "8b9f512c-4f88-46b1-9a86-2b591afabeb2",
        "colab": {
          "base_uri": "https://localhost:8080/",
          "height": 281
        }
      },
      "source": [
        "h = pyplot.hist(np.abs(testpred-np.argmax(y_testInt, axis=1)), bins='auto')\n",
        "pyplot.title('Ecart entre la classe prédite et la classe réelle')\n",
        "pyplot.savefig('ecart.png')"
      ],
      "execution_count": 0,
      "outputs": [
        {
          "output_type": "display_data",
          "data": {
            "image/png": "[encoded data removed]",
            "text/plain": [
              "<Figure size 432x288 with 1 Axes>"
            ]
          },
          "metadata": {
            "tags": []
          }
        }
      ]
    },
    {
      "cell_type": "code",
      "metadata": {
        "id": "y61_36WCwG1J",
        "colab_type": "code",
        "outputId": "9e1ee3ea-bc00-4288-d00f-c4a3842825ad",
        "colab": {
          "base_uri": "https://localhost:8080/",
          "height": 550
        }
      },
      "source": [
        "h,b=np.histogram(np.abs(testpred-np.argmax(y_testInt, axis=1)), bins=[0,1,2,3,4,5,6,7,8])\n",
        "hp=100*h/len(y_test)\n",
        "print(hp)\n",
        "pyplot.bar([0,1,2,3,4,5,6,7],hp)\n",
        "pyplot.show()\n",
        "cumul=[]\n",
        "s=0\n",
        "for i in hp:\n",
        "  s+=i\n",
        "  cumul.append(s)\n",
        "pyplot.bar([0,1,2,3,4,5,6,7],cumul)\n",
        "pyplot.show()"
      ],
      "execution_count": 0,
      "outputs": [
        {
          "output_type": "stream",
          "text": [
            "[55.07778004 19.33292575  7.74403913  3.43047347  3.86522655  4.0078799\n",
            "  4.04184498  2.49983017]\n"
          ],
          "name": "stdout"
        },
        {
          "output_type": "display_data",
          "data": {
            "image/png": "[encoded data removed]",
            "text/plain": [
              "<Figure size 432x288 with 1 Axes>"
            ]
          },
          "metadata": {
            "tags": []
          }
        },
        {
          "output_type": "display_data",
          "data": {
            "image/png": "[encoded data removed]",
            "text/plain": [
              "<Figure size 432x288 with 1 Axes>"
            ]
          },
          "metadata": {
            "tags": []
          }
        }
      ]
    },
    {
      "cell_type": "code",
      "metadata": {
        "id": "EpMlSdRR0Wnq",
        "colab_type": "code",
        "outputId": "70941b2d-6c2e-474f-d738-595523c7416b",
        "colab": {
          "base_uri": "https://localhost:8080/",
          "height": 315
        }
      },
      "source": [
        "from matplotlib import pyplot as plt\n",
        "labels = [0,1,2,3,4,5,6,7]\n",
        "\n",
        "x = np.arange(len(labels))  # the label locations\n",
        "width = 0.35  # the width of the bars\n",
        "\n",
        "fig, ax = plt.subplots()\n",
        "rects1 = ax.bar(x - width/2, hp, width, label='pourcentage')\n",
        "rects2 = ax.bar(x + width/2, cumul, width, label='cumulé')\n",
        "\n",
        "# Add some text for labels, title and custom x-axis tick labels, etc.\n",
        "ax.set_ylabel('Scores')\n",
        "ax.set_title('Scores by distance')\n",
        "ax.set_xticks(x)\n",
        "ax.set_xticklabels(labels)\n",
        "ax.legend()\n",
        "\n",
        "\n",
        "def autolabel(rects):\n",
        "    \"\"\"Attach a text label above each bar in *rects*, displaying its height.\"\"\"\n",
        "    for rect in rects:\n",
        "        height = rect.get_height()\n",
        "        ax.annotate('{0:.0f}'.format(height),\n",
        "                    xy=(rect.get_x() + rect.get_width() / 2, height),\n",
        "                    xytext=(0, 3),  # 3 points vertical offset\n",
        "                    textcoords=\"offset points\",\n",
        "                    ha='center', va='bottom')\n",
        "\n",
        "\n",
        "autolabel(rects1)\n",
        "autolabel(rects2)\n",
        "\n",
        "fig.tight_layout()\n",
        "plt.grid(linestyle=\"--\")\n",
        "plt.show()\n",
        "plt.savefig('scores.png')"
      ],
      "execution_count": 0,
      "outputs": [
        {
          "output_type": "display_data",
          "data": {
            "image/png": "[encoded data removed]",
            "text/plain": [
              "<Figure size 432x288 with 1 Axes>"
            ]
          },
          "metadata": {
            "tags": []
          }
        },
        {
          "output_type": "display_data",
          "data": {
            "text/plain": [
              "<Figure size 432x288 with 0 Axes>"
            ]
          },
          "metadata": {
            "tags": []
          }
        }
      ]
    },
    {
      "cell_type": "markdown",
      "metadata": {
        "id": "vgIDz2XvC69e",
        "colab_type": "text"
      },
      "source": [
        "# Predict"
      ]
    },
    {
      "cell_type": "code",
      "metadata": {
        "id": "e1HH_OKeDG3d",
        "colab_type": "code",
        "colab": {}
      },
      "source": [
        "from sklearn.model_selection import train_test_split\n",
        "from sklearn.experimental import enable_iterative_imputer\n",
        "from sklearn.impute import IterativeImputer, SimpleImputer\n",
        "from sklearn.preprocessing import MaxAbsScaler\n",
        "import pandas\n",
        "import numpy as np\n",
        "import tensorflow\n",
        "import keras\n",
        "from keras.models import load_model"
      ],
      "execution_count": 0,
      "outputs": []
    },
    {
      "cell_type": "code",
      "metadata": {
        "id": "prAZhN-WDKWq",
        "colab_type": "code",
        "colab": {}
      },
      "source": [
        "X_pred = pandas.read_csv('predict.csv')"
      ],
      "execution_count": 0,
      "outputs": []
    },
    {
      "cell_type": "code",
      "metadata": {
        "id": "FV27FOnYWF-N",
        "colab_type": "code",
        "outputId": "34503a3e-0f3f-4afc-e978-a368853e4c4d",
        "colab": {
          "base_uri": "https://localhost:8080/",
          "height": 35
        }
      },
      "source": [
        "print(X_pred.shape)"
      ],
      "execution_count": 0,
      "outputs": [
        {
          "output_type": "stream",
          "text": [
            "(500, 128)\n"
          ],
          "name": "stdout"
        }
      ]
    },
    {
      "cell_type": "code",
      "metadata": {
        "id": "NkcEsKniDROY",
        "colab_type": "code",
        "outputId": "d897a477-d720-48a4-801e-588b7ae11549",
        "colab": {
          "base_uri": "https://localhost:8080/",
          "height": 54
        }
      },
      "source": [
        "religion=X_pred.InsuredInfo_9.unique()\n",
        "\n",
        "race=X_pred.InsuredInfo_8.unique()\n",
        "\n",
        "print(religion)\n",
        "print(race)\n",
        "\n",
        "X_pred['InsuredInfo_7']=X_pred['InsuredInfo_7'].apply(lambda x: 0 if x=='Male' else 1)\n",
        "X_pred['InsuredInfo_8']=X_pred['InsuredInfo_8'].apply(lambda x: np.nan if type(np.nan)==type(x) else np.where(race==x)[0][0])\n",
        "X_pred['InsuredInfo_9']=X_pred['InsuredInfo_9'].apply(lambda x: np.nan if type(np.nan)==type(x) else np.where(religion==x)[0][0])\n",
        "X_pred['Product_Info_2']=X_pred['Product_Info_2'].apply(lambda x: int(x,16))\n",
        "#simp=IterativeImputer(max_iter=2, random_state=0)"
      ],
      "execution_count": 0,
      "outputs": [
        {
          "output_type": "stream",
          "text": [
            "[nan 'Hindus' 'Jewish' 'Muslim' 'Christian' 'Buddhist']\n",
            "[nan 'Black' 'Caucasian' 'African-American' 'Hispanic' 'Asian' 'Latino']\n"
          ],
          "name": "stdout"
        }
      ]
    },
    {
      "cell_type": "code",
      "metadata": {
        "id": "a3a1FwvRX46P",
        "colab_type": "code",
        "outputId": "570b41b5-7523-4252-f71b-79860b501fe8",
        "colab": {
          "base_uri": "https://localhost:8080/",
          "height": 90
        }
      },
      "source": [
        "print(X_pred['InsuredInfo_7'].unique())\n",
        "print(X_pred['InsuredInfo_8'].unique())\n",
        "print(X_pred['InsuredInfo_9'].unique())\n",
        "print(X_pred['Product_Info_2'].unique())"
      ],
      "execution_count": 0,
      "outputs": [
        {
          "output_type": "stream",
          "text": [
            "[0 1]\n",
            "[nan  1.  2.  3.  4.  5.  6.]\n",
            "[nan  1.  2.  3.  4.  5.]\n",
            "[212 167 211 209 161 210 165 168 162 178 166 225 163 193 195 196]\n"
          ],
          "name": "stdout"
        }
      ]
    },
    {
      "cell_type": "code",
      "metadata": {
        "id": "2zyf5ga9Rj6_",
        "colab_type": "code",
        "colab": {}
      },
      "source": [
        "cols=['InsuredInfo_7','InsuredInfo_8','InsuredInfo_9']\n",
        "\n",
        "for col1 in cols:\n",
        "\n",
        "  cr=X_pred[X_pred.columns[1:]].corr()[col1].abs()>0.1\n",
        "  idxs=X_pred[X_pred.columns[1:]].corr()[col1][cr].index\n",
        "  vals=X[col1].unique()\n",
        "  for col in idxs:\n",
        "    if col !=col1:\n",
        "      if col!='Response':\n",
        "        for idx in vals:\n",
        "          if idx is np.nan:\n",
        "            X_pred.loc[X_pred[col1]==idx,col]=X_pred.loc[X_pred[col1].isnull(),col]-X_pred.loc[X_pred[col1].isnull(),col].mean()\n",
        "          else:\n",
        "            X_pred.loc[X_pred[col1]==idx,col]=X_pred.loc[X_pred[col1]==idx,col]-X_pred.loc[X_pred[col1]==idx,col].mean()\n"
      ],
      "execution_count": 0,
      "outputs": []
    },
    {
      "cell_type": "code",
      "metadata": {
        "id": "yZ6qvB_2JsBs",
        "colab_type": "code",
        "colab": {}
      },
      "source": [
        "#X_pred=X_pred.drop(columns=['InsuredInfo_7','InsuredInfo_8','InsuredInfo_9'])\n",
        "simp=SimpleImputer()\n",
        "Ximp_pred=simp.fit_transform(X_pred)\n",
        "#Ximp_pred=X_pred.fillna(X_pred.mean())"
      ],
      "execution_count": 0,
      "outputs": []
    },
    {
      "cell_type": "code",
      "metadata": {
        "id": "lwnxxknxWkdR",
        "colab_type": "code",
        "outputId": "45769d55-e6a2-4235-9851-33962091cff0",
        "colab": {
          "base_uri": "https://localhost:8080/",
          "height": 35
        }
      },
      "source": [
        "print(Ximp_pred.shape)"
      ],
      "execution_count": 0,
      "outputs": [
        {
          "output_type": "stream",
          "text": [
            "(500, 128)\n"
          ],
          "name": "stdout"
        }
      ]
    },
    {
      "cell_type": "code",
      "metadata": {
        "id": "AysRCUlFDf7T",
        "colab_type": "code",
        "colab": {}
      },
      "source": [
        "scaler_maxabs = MaxAbsScaler()\n",
        "Xscaledimp_pred=scaler_maxabs.fit_transform(Ximp_pred)"
      ],
      "execution_count": 0,
      "outputs": []
    },
    {
      "cell_type": "code",
      "metadata": {
        "id": "dpnWmrXBD4P4",
        "colab_type": "code",
        "outputId": "b5848738-1f22-4f33-c480-d4f7b39c35b6",
        "colab": {
          "base_uri": "https://localhost:8080/",
          "height": 274
        }
      },
      "source": [
        "  # load the saved model\n",
        "  saved_model = load_model('best_model.h5')\n",
        "  # evaluate the model\n",
        "  preds=saved_model.predict(Xscaledimp_pred)\n",
        "\n",
        "  print(np.argmax(preds, axis=1))\n",
        "  X_pred['Result']=np.argmax(preds, axis=1)\n",
        "\n",
        "  X_pred.to_csv('results.csv')"
      ],
      "execution_count": 0,
      "outputs": [
        {
          "output_type": "stream",
          "text": [
            "[0 1 0 1 0 0 0 1 1 0 1 0 0 0 0 0 1 0 0 1 1 1 1 0 0 0 0 0 4 0 1 5 0 0 0 0 0\n",
            " 1 6 0 1 0 0 0 1 0 0 0 4 0 0 0 0 0 0 0 0 0 0 1 0 0 0 0 0 5 0 0 1 1 0 0 0 1\n",
            " 4 0 0 0 1 1 0 0 0 0 0 0 5 0 0 0 0 0 0 0 0 0 0 0 0 0 0 0 0 0 1 0 0 4 0 0 0\n",
            " 0 0 6 0 0 0 0 0 0 0 0 0 0 1 0 1 0 0 4 1 0 0 0 0 0 1 0 1 0 0 5 0 1 0 0 4 0\n",
            " 1 0 1 0 0 0 0 0 0 0 0 0 1 1 0 0 1 4 0 0 0 4 4 0 0 0 0 0 1 0 0 5 0 5 0 4 0\n",
            " 1 4 6 0 0 1 0 0 4 0 1 0 0 0 4 1 4 1 4 0 1 4 0 0 0 1 0 1 0 1 6 5 4 0 1 1 0\n",
            " 0 7 0 0 0 0 0 4 0 0 0 0 0 1 0 0 1 1 4 0 0 0 0 1 0 0 0 4 0 0 0 0 0 0 1 0 0\n",
            " 6 0 4 0 0 2 0 0 6 1 0 0 4 0 0 0 0 0 0 0 0 0 0 1 0 0 0 0 0 0 1 0 0 1 0 0 6\n",
            " 4 0 0 0 0 0 0 0 0 0 0 0 0 0 0 0 0 0 0 0 0 0 4 0 0 1 0 0 1 4 0 4 0 0 0 1 0\n",
            " 0 0 4 0 0 0 0 0 1 1 0 0 0 0 4 6 0 4 0 0 0 0 0 4 0 0 0 0 1 0 0 0 0 0 1 5 0\n",
            " 0 0 0 1 4 0 0 0 1 0 0 1 0 0 0 0 0 0 0 0 0 0 0 0 0 6 0 0 0 0 1 0 0 0 0 0 0\n",
            " 0 4 0 0 0 0 0 1 1 0 0 0 6 1 0 0 6 0 0 1 4 1 0 0 0 6 0 0 0 0 0 4 1 0 1 0 0\n",
            " 0 0 1 1 0 0 1 0 1 0 0 0 0 0 0 0 0 0 0 0 0 5 1 0 0 0 0 0 0 0 0 0 1 1 1 0 0\n",
            " 0 0 0 5 0 0 4 0 1 1 0 0 0 0 0 0 0 0 0]\n"
          ],
          "name": "stdout"
        }
      ]
    },
    {
      "cell_type": "markdown",
      "metadata": {
        "id": "oDCcJtAPyCvW",
        "colab_type": "text"
      },
      "source": [
        "# Decision tree"
      ]
    },
    {
      "cell_type": "code",
      "metadata": {
        "id": "vTbMtaqOyG5r",
        "colab_type": "code",
        "colab": {}
      },
      "source": [
        "from sklearn import tree"
      ],
      "execution_count": 0,
      "outputs": []
    },
    {
      "cell_type": "code",
      "metadata": {
        "id": "RQyl03SeytCv",
        "colab_type": "code",
        "outputId": "e3f593e1-d123-4392-abbc-3d78a01b6674",
        "colab": {
          "base_uri": "https://localhost:8080/",
          "height": 281
        }
      },
      "source": [
        "l=[]\n",
        "xs=[2,5,7,8,9,10,11,12,13,14,15,16,17,18,19,20,30,50,125]\n",
        "mx=0\n",
        "mi=0\n",
        "for i in xs:\n",
        "  clf=tree.DecisionTreeClassifier(max_depth=i)\n",
        "  clf.fit(X_train_scaled_maxabs, y_train)\n",
        "  #print(clf.score(X_train_scaled_maxabs,y_train))\n",
        "  l.append(clf.score(X_test_scaled_maxabs,y_test))\n",
        "  if l[-1]>mx:\n",
        "    mx=l[-1]\n",
        "    mi=i\n",
        "\n",
        "plt.plot(xs,l)\n",
        "plt.title('Score en fonction de la profondeur')\n",
        "plt.savefig('dt.png')"
      ],
      "execution_count": 0,
      "outputs": [
        {
          "output_type": "display_data",
          "data": {
            "image/png": "[encoded data removed]",
            "text/plain": [
              "<Figure size 432x288 with 1 Axes>"
            ]
          },
          "metadata": {
            "tags": []
          }
        }
      ]
    },
    {
      "cell_type": "code",
      "metadata": {
        "id": "m5y8tKTy-1oe",
        "colab_type": "code",
        "outputId": "0fbd292d-6ce4-4dcd-e9a7-632346056091",
        "colab": {
          "base_uri": "https://localhost:8080/",
          "height": 54
        }
      },
      "source": [
        "print(mi)\n",
        "print(mx)"
      ],
      "execution_count": 0,
      "outputs": [
        {
          "output_type": "stream",
          "text": [
            "10\n",
            "0.557638747367706\n"
          ],
          "name": "stdout"
        }
      ]
    },
    {
      "cell_type": "code",
      "metadata": {
        "id": "NoFWmqrk9j2e",
        "colab_type": "code",
        "outputId": "2bf64ca6-fa76-41ad-debd-89ad53d3d3d6",
        "colab": {
          "base_uri": "https://localhost:8080/",
          "height": 35
        }
      },
      "source": [
        "clf=tree.DecisionTreeClassifier(max_depth=mi)\n",
        "clf.fit(X_train_scaled_maxabs, y_train)\n",
        "testpredDT=clf.predict(X_test_scaled_maxabs,)\n",
        "test_acc2=np.sum(np.abs(testpredDT-y_test))/len(y_test)\n",
        "print(test_acc2)"
      ],
      "execution_count": 0,
      "outputs": [
        {
          "output_type": "stream",
          "text": [
            "1.282453637660485\n"
          ],
          "name": "stdout"
        }
      ]
    },
    {
      "cell_type": "markdown",
      "metadata": {
        "id": "BZmrp5hiADr0",
        "colab_type": "text"
      },
      "source": [
        "# KNN"
      ]
    },
    {
      "cell_type": "code",
      "metadata": {
        "id": "afO2K8jDAHGH",
        "colab_type": "code",
        "colab": {}
      },
      "source": [
        "from sklearn.neighbors import KNeighborsClassifier"
      ],
      "execution_count": 0,
      "outputs": []
    },
    {
      "cell_type": "code",
      "metadata": {
        "id": "oLaMJZrBAN1j",
        "colab_type": "code",
        "outputId": "105cf15e-5aeb-470b-97e7-0f5112ab32fb",
        "colab": {
          "base_uri": "https://localhost:8080/",
          "height": 35
        }
      },
      "source": [
        "neigh = KNeighborsClassifier(n_neighbors=3)\n",
        "neigh.fit(X_train_scaled_maxabs, y_train)\n",
        "print(neigh.score(X_test_scaled_maxabs, y_test))"
      ],
      "execution_count": 0,
      "outputs": [
        {
          "output_type": "execute_result",
          "data": {
            "text/plain": [
              "0.3607091909517017"
            ]
          },
          "metadata": {
            "tags": []
          },
          "execution_count": 87
        }
      ]
    },
    {
      "cell_type": "code",
      "metadata": {
        "id": "9-a75FN0BlTd",
        "colab_type": "code",
        "outputId": "872cd3a7-f659-42ce-d149-f07c31cfcb97",
        "colab": {
          "base_uri": "https://localhost:8080/",
          "height": 35
        }
      },
      "source": [
        "testpredNN=neigh.predict(X_test_scaled_maxabs)\n",
        "test_acc2=np.sum(np.abs(testpredNN-y_test))/len(y_test)\n",
        "print(test_acc2)\n"
      ],
      "execution_count": 0,
      "outputs": [
        {
          "output_type": "stream",
          "text": [
            "1.995244888254874\n"
          ],
          "name": "stdout"
        }
      ]
    },
    {
      "cell_type": "markdown",
      "metadata": {
        "id": "tlov1IIIDRDG",
        "colab_type": "text"
      },
      "source": [
        "# Nearest Centroid"
      ]
    },
    {
      "cell_type": "code",
      "metadata": {
        "id": "PvaIUS1aDU_u",
        "colab_type": "code",
        "colab": {}
      },
      "source": [
        "from sklearn.neighbors import NearestCentroid"
      ],
      "execution_count": 0,
      "outputs": []
    },
    {
      "cell_type": "code",
      "metadata": {
        "id": "RqhANs_xDWSX",
        "colab_type": "code",
        "outputId": "8fe8c89f-ee82-4d3d-dee1-1ebb48421aa1",
        "colab": {
          "base_uri": "https://localhost:8080/",
          "height": 35
        }
      },
      "source": [
        "clfNC = NearestCentroid()\n",
        "clfNC.fit(X_train_scaled_maxabs, y_train)\n",
        "clfNC.score(X_test_scaled_maxabs, y_test)"
      ],
      "execution_count": 0,
      "outputs": [
        {
          "output_type": "execute_result",
          "data": {
            "text/plain": [
              "0.36872495075062833"
            ]
          },
          "metadata": {
            "tags": []
          },
          "execution_count": 90
        }
      ]
    },
    {
      "cell_type": "code",
      "metadata": {
        "id": "LEqwVKZ9DkGM",
        "colab_type": "code",
        "outputId": "ee05dc25-7bcc-401a-c8ee-7c3d9ea6defb",
        "colab": {
          "base_uri": "https://localhost:8080/",
          "height": 35
        }
      },
      "source": [
        "testpredNC=clfNC.predict(X_test_scaled_maxabs)\n",
        "test_acc2=np.sum(np.abs(testpredNC-y_test))/len(y_test)\n",
        "print(test_acc2)"
      ],
      "execution_count": 0,
      "outputs": [
        {
          "output_type": "stream",
          "text": [
            "1.7840499966034915\n"
          ],
          "name": "stdout"
        }
      ]
    }
  ]
}